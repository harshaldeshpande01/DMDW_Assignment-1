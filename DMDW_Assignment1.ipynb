{
 "cells": [
  {
   "cell_type": "markdown",
   "metadata": {},
   "source": [
    "## Pandas functions"
   ]
  },
  {
   "cell_type": "code",
   "execution_count": 1,
   "metadata": {},
   "outputs": [],
   "source": [
    "import pandas as pd\n",
    "# plot\n",
    "import matplotlib.pyplot as plt\n",
    "%matplotlib inline"
   ]
  },
  {
   "cell_type": "code",
   "execution_count": 2,
   "metadata": {
    "scrolled": true
   },
   "outputs": [
    {
     "data": {
      "text/html": [
       "<div>\n",
       "<style scoped>\n",
       "    .dataframe tbody tr th:only-of-type {\n",
       "        vertical-align: middle;\n",
       "    }\n",
       "\n",
       "    .dataframe tbody tr th {\n",
       "        vertical-align: top;\n",
       "    }\n",
       "\n",
       "    .dataframe thead th {\n",
       "        text-align: right;\n",
       "    }\n",
       "</style>\n",
       "<table border=\"1\" class=\"dataframe\">\n",
       "  <thead>\n",
       "    <tr style=\"text-align: right;\">\n",
       "      <th></th>\n",
       "      <th>Unnamed: 0</th>\n",
       "      <th>ID_REF</th>\n",
       "      <th>Age (in years)</th>\n",
       "      <th>Dukes Stage</th>\n",
       "      <th>Gender</th>\n",
       "      <th>Location</th>\n",
       "      <th>DFS (in months)</th>\n",
       "      <th>DFS event</th>\n",
       "      <th>Adj_Radio</th>\n",
       "      <th>Adj_Chem</th>\n",
       "    </tr>\n",
       "  </thead>\n",
       "  <tbody>\n",
       "    <tr>\n",
       "      <th>0</th>\n",
       "      <td>0</td>\n",
       "      <td>GSM877126</td>\n",
       "      <td>62</td>\n",
       "      <td>A</td>\n",
       "      <td>Male</td>\n",
       "      <td>Left</td>\n",
       "      <td>108</td>\n",
       "      <td>0</td>\n",
       "      <td>1</td>\n",
       "      <td>0</td>\n",
       "    </tr>\n",
       "    <tr>\n",
       "      <th>1</th>\n",
       "      <td>1</td>\n",
       "      <td>GSM877127</td>\n",
       "      <td>77</td>\n",
       "      <td>B</td>\n",
       "      <td>NaN</td>\n",
       "      <td>Left</td>\n",
       "      <td>40</td>\n",
       "      <td>1</td>\n",
       "      <td>1</td>\n",
       "      <td>0</td>\n",
       "    </tr>\n",
       "    <tr>\n",
       "      <th>2</th>\n",
       "      <td>2</td>\n",
       "      <td>GSM877128</td>\n",
       "      <td>66</td>\n",
       "      <td>C</td>\n",
       "      <td>Female</td>\n",
       "      <td>Left</td>\n",
       "      <td>49</td>\n",
       "      <td>0</td>\n",
       "      <td>1</td>\n",
       "      <td>0</td>\n",
       "    </tr>\n",
       "    <tr>\n",
       "      <th>3</th>\n",
       "      <td>3</td>\n",
       "      <td>GSM877129</td>\n",
       "      <td>72</td>\n",
       "      <td>D</td>\n",
       "      <td>Female</td>\n",
       "      <td>Left</td>\n",
       "      <td>45</td>\n",
       "      <td>0</td>\n",
       "      <td>1</td>\n",
       "      <td>1</td>\n",
       "    </tr>\n",
       "    <tr>\n",
       "      <th>4</th>\n",
       "      <td>4</td>\n",
       "      <td>GSM877130</td>\n",
       "      <td>75</td>\n",
       "      <td>C</td>\n",
       "      <td>Male</td>\n",
       "      <td>Left</td>\n",
       "      <td>40</td>\n",
       "      <td>0</td>\n",
       "      <td>0</td>\n",
       "      <td>1</td>\n",
       "    </tr>\n",
       "  </tbody>\n",
       "</table>\n",
       "</div>"
      ],
      "text/plain": [
       "   Unnamed: 0     ID_REF  Age (in years) Dukes Stage  Gender Location  \\\n",
       "0           0  GSM877126              62           A    Male     Left   \n",
       "1           1  GSM877127              77           B     NaN     Left   \n",
       "2           2  GSM877128              66           C  Female     Left   \n",
       "3           3  GSM877129              72           D  Female     Left   \n",
       "4           4  GSM877130              75           C    Male     Left   \n",
       "\n",
       "   DFS (in months)  DFS event  Adj_Radio  Adj_Chem  \n",
       "0              108          0          1         0  \n",
       "1               40          1          1         0  \n",
       "2               49          0          1         0  \n",
       "3               45          0          1         1  \n",
       "4               40          0          0         1  "
      ]
     },
     "execution_count": 2,
     "metadata": {},
     "output_type": "execute_result"
    }
   ],
   "source": [
    "df = pd.read_csv('C:/Users/HP/Downloads/archive/dataset.csv')\n",
    "df.head()"
   ]
  },
  {
   "cell_type": "code",
   "execution_count": 3,
   "metadata": {},
   "outputs": [
    {
     "name": "stdout",
     "output_type": "stream",
     "text": [
      "<class 'pandas.core.frame.DataFrame'>\n",
      "RangeIndex: 62 entries, 0 to 61\n",
      "Data columns (total 10 columns):\n",
      " #   Column           Non-Null Count  Dtype \n",
      "---  ------           --------------  ----- \n",
      " 0   Unnamed: 0       62 non-null     int64 \n",
      " 1   ID_REF           62 non-null     object\n",
      " 2   Age (in years)   62 non-null     int64 \n",
      " 3   Dukes Stage      62 non-null     object\n",
      " 4   Gender           61 non-null     object\n",
      " 5   Location         62 non-null     object\n",
      " 6   DFS (in months)  62 non-null     int64 \n",
      " 7   DFS event        62 non-null     int64 \n",
      " 8   Adj_Radio        62 non-null     int64 \n",
      " 9   Adj_Chem         62 non-null     int64 \n",
      "dtypes: int64(6), object(4)\n",
      "memory usage: 5.0+ KB\n"
     ]
    }
   ],
   "source": [
    "# df.dtypes\n",
    "# df.describe()\n",
    "# df.corr()\n",
    "df.info()"
   ]
  },
  {
   "cell_type": "code",
   "execution_count": 4,
   "metadata": {},
   "outputs": [
    {
     "data": {
      "text/plain": [
       "<matplotlib.axes._subplots.AxesSubplot at 0x1a0fc2de160>"
      ]
     },
     "execution_count": 4,
     "metadata": {},
     "output_type": "execute_result"
    },
    {
     "data": {
      "image/png": "[encoded data removed]",
      "text/plain": [
       "<Figure size 432x288 with 1 Axes>"
      ]
     },
     "metadata": {
      "needs_background": "light"
     },
     "output_type": "display_data"
    }
   ],
   "source": [
    "df.plot()"
   ]
  },
  {
   "cell_type": "code",
   "execution_count": 5,
   "metadata": {},
   "outputs": [
    {
     "name": "stdout",
     "output_type": "stream",
     "text": [
      "1 rows have missing values in the data\n"
     ]
    },
    {
     "data": {
      "text/plain": [
       "Unnamed: 0         0\n",
       "ID_REF             0\n",
       "Age (in years)     0\n",
       "Dukes Stage        0\n",
       "Gender             1\n",
       "Location           0\n",
       "DFS (in months)    0\n",
       "DFS event          0\n",
       "Adj_Radio          0\n",
       "Adj_Chem           0\n",
       "dtype: int64"
      ]
     },
     "execution_count": 5,
     "metadata": {},
     "output_type": "execute_result"
    }
   ],
   "source": [
    "nans = df.shape[0] - df.dropna().shape[0]\n",
    "print (\"%d rows have missing values in the data\" %nans)\n",
    "df.isnull().sum()"
   ]
  },
  {
   "cell_type": "code",
   "execution_count": 6,
   "metadata": {},
   "outputs": [
    {
     "name": "stdout",
     "output_type": "stream",
     "text": [
      "0 rows have missing values in the data\n"
     ]
    },
    {
     "data": {
      "text/plain": [
       "Unnamed: 0         0\n",
       "ID_REF             0\n",
       "Age (in years)     0\n",
       "Dukes Stage        0\n",
       "Gender             0\n",
       "Location           0\n",
       "DFS (in months)    0\n",
       "DFS event          0\n",
       "Adj_Radio          0\n",
       "Adj_Chem           0\n",
       "dtype: int64"
      ]
     },
     "execution_count": 6,
     "metadata": {},
     "output_type": "execute_result"
    }
   ],
   "source": [
    "df.Gender.fillna('Not known',inplace=True)\n",
    "nans = df.shape[0] - df.dropna().shape[0]\n",
    "print (\"%d rows have missing values in the data\" %nans)\n",
    "df.isnull().sum()"
   ]
  },
  {
   "cell_type": "code",
   "execution_count": 7,
   "metadata": {},
   "outputs": [
    {
     "data": {
      "text/plain": [
       "78"
      ]
     },
     "execution_count": 7,
     "metadata": {},
     "output_type": "execute_result"
    }
   ],
   "source": [
    "df[\"Age (in years)\"].max()"
   ]
  },
  {
   "cell_type": "code",
   "execution_count": 8,
   "metadata": {},
   "outputs": [
    {
     "data": {
      "text/html": [
       "<div>\n",
       "<style scoped>\n",
       "    .dataframe tbody tr th:only-of-type {\n",
       "        vertical-align: middle;\n",
       "    }\n",
       "\n",
       "    .dataframe tbody tr th {\n",
       "        vertical-align: top;\n",
       "    }\n",
       "\n",
       "    .dataframe thead th {\n",
       "        text-align: right;\n",
       "    }\n",
       "</style>\n",
       "<table border=\"1\" class=\"dataframe\">\n",
       "  <thead>\n",
       "    <tr style=\"text-align: right;\">\n",
       "      <th></th>\n",
       "      <th>Unnamed: 0</th>\n",
       "      <th>ID_REF</th>\n",
       "      <th>Age</th>\n",
       "      <th>Dstage</th>\n",
       "      <th>Gender</th>\n",
       "      <th>Location</th>\n",
       "      <th>DFS</th>\n",
       "      <th>DFS event</th>\n",
       "      <th>Adj_Radio</th>\n",
       "      <th>Adj_Chem</th>\n",
       "    </tr>\n",
       "  </thead>\n",
       "  <tbody>\n",
       "    <tr>\n",
       "      <th>0</th>\n",
       "      <td>0</td>\n",
       "      <td>GSM877126</td>\n",
       "      <td>62</td>\n",
       "      <td>A</td>\n",
       "      <td>Male</td>\n",
       "      <td>Left</td>\n",
       "      <td>108</td>\n",
       "      <td>0</td>\n",
       "      <td>1</td>\n",
       "      <td>0</td>\n",
       "    </tr>\n",
       "    <tr>\n",
       "      <th>1</th>\n",
       "      <td>1</td>\n",
       "      <td>GSM877127</td>\n",
       "      <td>77</td>\n",
       "      <td>B</td>\n",
       "      <td>Not known</td>\n",
       "      <td>Left</td>\n",
       "      <td>40</td>\n",
       "      <td>1</td>\n",
       "      <td>1</td>\n",
       "      <td>0</td>\n",
       "    </tr>\n",
       "    <tr>\n",
       "      <th>2</th>\n",
       "      <td>2</td>\n",
       "      <td>GSM877128</td>\n",
       "      <td>66</td>\n",
       "      <td>C</td>\n",
       "      <td>Female</td>\n",
       "      <td>Left</td>\n",
       "      <td>49</td>\n",
       "      <td>0</td>\n",
       "      <td>1</td>\n",
       "      <td>0</td>\n",
       "    </tr>\n",
       "    <tr>\n",
       "      <th>3</th>\n",
       "      <td>3</td>\n",
       "      <td>GSM877129</td>\n",
       "      <td>72</td>\n",
       "      <td>D</td>\n",
       "      <td>Female</td>\n",
       "      <td>Left</td>\n",
       "      <td>45</td>\n",
       "      <td>0</td>\n",
       "      <td>1</td>\n",
       "      <td>1</td>\n",
       "    </tr>\n",
       "    <tr>\n",
       "      <th>4</th>\n",
       "      <td>4</td>\n",
       "      <td>GSM877130</td>\n",
       "      <td>75</td>\n",
       "      <td>C</td>\n",
       "      <td>Male</td>\n",
       "      <td>Left</td>\n",
       "      <td>40</td>\n",
       "      <td>0</td>\n",
       "      <td>0</td>\n",
       "      <td>1</td>\n",
       "    </tr>\n",
       "  </tbody>\n",
       "</table>\n",
       "</div>"
      ],
      "text/plain": [
       "   Unnamed: 0     ID_REF  Age Dstage     Gender Location  DFS  DFS event  \\\n",
       "0           0  GSM877126   62      A       Male     Left  108          0   \n",
       "1           1  GSM877127   77      B  Not known     Left   40          1   \n",
       "2           2  GSM877128   66      C     Female     Left   49          0   \n",
       "3           3  GSM877129   72      D     Female     Left   45          0   \n",
       "4           4  GSM877130   75      C       Male     Left   40          0   \n",
       "\n",
       "   Adj_Radio  Adj_Chem  \n",
       "0          1         0  \n",
       "1          1         0  \n",
       "2          1         0  \n",
       "3          1         1  \n",
       "4          0         1  "
      ]
     },
     "execution_count": 8,
     "metadata": {},
     "output_type": "execute_result"
    }
   ],
   "source": [
    "df = df.rename(columns={\"Age (in years)\": \"Age\", \"DFS (in months)\": \"DFS\", \"Dukes Stage\": \"Dstage\"})\n",
    "df.head()"
   ]
  },
  {
   "cell_type": "code",
   "execution_count": 9,
   "metadata": {},
   "outputs": [
    {
     "data": {
      "text/html": [
       "<div>\n",
       "<style scoped>\n",
       "    .dataframe tbody tr th:only-of-type {\n",
       "        vertical-align: middle;\n",
       "    }\n",
       "\n",
       "    .dataframe tbody tr th {\n",
       "        vertical-align: top;\n",
       "    }\n",
       "\n",
       "    .dataframe thead th {\n",
       "        text-align: right;\n",
       "    }\n",
       "</style>\n",
       "<table border=\"1\" class=\"dataframe\">\n",
       "  <thead>\n",
       "    <tr style=\"text-align: right;\">\n",
       "      <th></th>\n",
       "      <th>Unnamed: 0</th>\n",
       "      <th>ID_REF</th>\n",
       "      <th>Age</th>\n",
       "      <th>Dstage</th>\n",
       "      <th>Gender</th>\n",
       "      <th>Location</th>\n",
       "      <th>DFS</th>\n",
       "      <th>DFS event</th>\n",
       "      <th>Adj_Radio</th>\n",
       "      <th>Adj_Chem</th>\n",
       "    </tr>\n",
       "  </thead>\n",
       "  <tbody>\n",
       "    <tr>\n",
       "      <th>21</th>\n",
       "      <td>21</td>\n",
       "      <td>GSM877147</td>\n",
       "      <td>28</td>\n",
       "      <td>B</td>\n",
       "      <td>Male</td>\n",
       "      <td>Right</td>\n",
       "      <td>85</td>\n",
       "      <td>0</td>\n",
       "      <td>0</td>\n",
       "      <td>0</td>\n",
       "    </tr>\n",
       "    <tr>\n",
       "      <th>13</th>\n",
       "      <td>13</td>\n",
       "      <td>GSM877139</td>\n",
       "      <td>39</td>\n",
       "      <td>D</td>\n",
       "      <td>Male</td>\n",
       "      <td>Rectum</td>\n",
       "      <td>38</td>\n",
       "      <td>1</td>\n",
       "      <td>0</td>\n",
       "      <td>0</td>\n",
       "    </tr>\n",
       "    <tr>\n",
       "      <th>43</th>\n",
       "      <td>43</td>\n",
       "      <td>GSM877169</td>\n",
       "      <td>44</td>\n",
       "      <td>D</td>\n",
       "      <td>Female</td>\n",
       "      <td>Left</td>\n",
       "      <td>66</td>\n",
       "      <td>0</td>\n",
       "      <td>0</td>\n",
       "      <td>0</td>\n",
       "    </tr>\n",
       "    <tr>\n",
       "      <th>39</th>\n",
       "      <td>39</td>\n",
       "      <td>GSM877165</td>\n",
       "      <td>46</td>\n",
       "      <td>C</td>\n",
       "      <td>Male</td>\n",
       "      <td>Left</td>\n",
       "      <td>15</td>\n",
       "      <td>0</td>\n",
       "      <td>0</td>\n",
       "      <td>1</td>\n",
       "    </tr>\n",
       "    <tr>\n",
       "      <th>12</th>\n",
       "      <td>12</td>\n",
       "      <td>GSM877138</td>\n",
       "      <td>47</td>\n",
       "      <td>A</td>\n",
       "      <td>Male</td>\n",
       "      <td>Right</td>\n",
       "      <td>81</td>\n",
       "      <td>0</td>\n",
       "      <td>0</td>\n",
       "      <td>1</td>\n",
       "    </tr>\n",
       "  </tbody>\n",
       "</table>\n",
       "</div>"
      ],
      "text/plain": [
       "    Unnamed: 0     ID_REF  Age Dstage  Gender Location  DFS  DFS event  \\\n",
       "21          21  GSM877147   28      B    Male    Right   85          0   \n",
       "13          13  GSM877139   39      D    Male   Rectum   38          1   \n",
       "43          43  GSM877169   44      D  Female     Left   66          0   \n",
       "39          39  GSM877165   46      C    Male     Left   15          0   \n",
       "12          12  GSM877138   47      A    Male    Right   81          0   \n",
       "\n",
       "    Adj_Radio  Adj_Chem  \n",
       "21          0         0  \n",
       "13          0         0  \n",
       "43          0         0  \n",
       "39          0         1  \n",
       "12          0         1  "
      ]
     },
     "execution_count": 9,
     "metadata": {},
     "output_type": "execute_result"
    }
   ],
   "source": [
    "df.sort_values(by=['Age', 'DFS'],ascending=[True, False],inplace=True)\n",
    "df.head()"
   ]
  },
  {
   "cell_type": "markdown",
   "metadata": {},
   "source": [
    "## Numpy and scikit learn functions"
   ]
  },
  {
   "cell_type": "code",
   "execution_count": 10,
   "metadata": {},
   "outputs": [],
   "source": [
    "import numpy as np\n",
    "\n",
    "data_list = df.loc[:,'DFS']\n",
    "data_arr = np.array(data_list)"
   ]
  },
  {
   "cell_type": "code",
   "execution_count": 11,
   "metadata": {},
   "outputs": [
    {
     "name": "stdout",
     "output_type": "stream",
     "text": [
      "15\n",
      "[[87]\n",
      " [40]\n",
      " [68]\n",
      " [17]\n",
      " [83]\n",
      " [66]\n",
      " [19]\n",
      " [93]\n",
      " [45]\n",
      " [29]]\n",
      "[[87]\n",
      " [40]\n",
      " [68]\n",
      " [17]\n",
      " [83]\n",
      " [66]\n",
      " [19]\n",
      " [93]\n",
      " [45]\n",
      " [29]]\n"
     ]
    }
   ],
   "source": [
    "data_arr = data_arr.reshape(-1, 1)\n",
    "data_arr = data_arr[: 10]\n",
    "\n",
    "print(data_arr.min())\n",
    "\n",
    "data_arr = data_arr + 2\n",
    "print(data_arr)\n",
    "\n",
    "print(np.sort(data_arr))"
   ]
  },
  {
   "cell_type": "code",
   "execution_count": 12,
   "metadata": {},
   "outputs": [
    {
     "name": "stdout",
     "output_type": "stream",
     "text": [
      "\n",
      "Binarized data:\n",
      " [[1]\n",
      " [0]\n",
      " [1]\n",
      " [0]\n",
      " [1]\n",
      " [1]\n",
      " [0]\n",
      " [1]\n",
      " [0]\n",
      " [0]]\n",
      "Mean = [54.7]\n",
      "\n",
      "L1 normalized data:\n",
      " [[0.15904936]\n",
      " [0.07312614]\n",
      " [0.12431444]\n",
      " [0.03107861]\n",
      " [0.15173675]\n",
      " [0.12065814]\n",
      " [0.03473492]\n",
      " [0.17001828]\n",
      " [0.08226691]\n",
      " [0.05301645]]\n"
     ]
    }
   ],
   "source": [
    "from sklearn import preprocessing\n",
    "\n",
    "data_binarized = preprocessing.Binarizer(threshold=50).transform(data_arr)\n",
    "print(\"\\nBinarized data:\\n\", data_binarized)\n",
    "\n",
    "print(\"Mean =\", data_arr.mean(axis=0))\n",
    "\n",
    "data_normalized_l1 = preprocessing.normalize(data_arr, norm='l1', axis=0)\n",
    "print(\"\\nL1 normalized data:\\n\", data_normalized_l1)"
   ]
  },
  {
   "cell_type": "code",
   "execution_count": 13,
   "metadata": {},
   "outputs": [],
   "source": [
    "from sklearn.model_selection import train_test_split\n",
    "\n",
    "train, test = train_test_split(df, test_size=0.2)"
   ]
  },
  {
   "cell_type": "code",
   "execution_count": 14,
   "metadata": {},
   "outputs": [
    {
     "name": "stdout",
     "output_type": "stream",
     "text": [
      "(49, 10) (13, 10)\n"
     ]
    }
   ],
   "source": [
    "print(train.shape, test.shape)"
   ]
  },
  {
   "cell_type": "markdown",
   "metadata": {},
   "source": [
    "## Matplotlib"
   ]
  },
  {
   "cell_type": "code",
   "execution_count": 15,
   "metadata": {},
   "outputs": [
    {
     "data": {
      "image/png": "[encoded data removed]",
      "text/plain": [
       "<Figure size 720x504 with 2 Axes>"
      ]
     },
     "metadata": {
      "needs_background": "light"
     },
     "output_type": "display_data"
    },
    {
     "data": {
      "image/png": "[encoded data removed]",
      "text/plain": [
       "<Figure size 720x504 with 2 Axes>"
      ]
     },
     "metadata": {
      "needs_background": "light"
     },
     "output_type": "display_data"
    }
   ],
   "source": [
    "# Visualizing numerical data with histgram and box plots\n",
    "features_num = ['Age', 'DFS']\n",
    "\n",
    "# plot distributions\n",
    "for f in features_num:\n",
    "    fig, (ax1, ax2) = plt.subplots(2, 1, figsize=(10,7))\n",
    "    \n",
    "    ax1.hist(df[f])\n",
    "    ax1.grid()\n",
    "    ax1.set_title('Histogram of ' + f)\n",
    "    \n",
    "    ax2.boxplot(df[f], vert=False)\n",
    "    ax2.grid()   \n",
    "    ax2.set_title('Boxplot of ' + f)\n",
    "    \n",
    "    plt.show()"
   ]
  },
  {
   "cell_type": "code",
   "execution_count": 16,
   "metadata": {},
   "outputs": [
    {
     "data": {
      "image/png": "[encoded data removed]",
      "text/plain": [
       "<Figure size 432x288 with 1 Axes>"
      ]
     },
     "metadata": {
      "needs_background": "light"
     },
     "output_type": "display_data"
    }
   ],
   "source": [
    "plt.scatter(df['Age'], df['DFS'])\n",
    "plt.title('DFS vs Age')\n",
    "plt.xlabel('Age')\n",
    "plt.ylabel('DFS')\n",
    "plt.grid()\n",
    "plt.show()"
   ]
  },
  {
   "cell_type": "code",
   "execution_count": 17,
   "metadata": {},
   "outputs": [
    {
     "data": {
      "image/png": "[encoded data removed]",
      "text/plain": [
       "<Figure size 432x288 with 1 Axes>"
      ]
     },
     "metadata": {
      "needs_background": "light"
     },
     "output_type": "display_data"
    },
    {
     "data": {
      "image/png": "[encoded data removed]",
      "text/plain": [
       "<Figure size 432x288 with 1 Axes>"
      ]
     },
     "metadata": {
      "needs_background": "light"
     },
     "output_type": "display_data"
    },
    {
     "data": {
      "image/png": "[encoded data removed]",
      "text/plain": [
       "<Figure size 432x288 with 1 Axes>"
      ]
     },
     "metadata": {
      "needs_background": "light"
     },
     "output_type": "display_data"
    }
   ],
   "source": [
    "# Visualizing categorical data with bar graphs\n",
    "features_cat = ['Dstage', 'Gender', 'Location']\n",
    "\n",
    "for f in features_cat:\n",
    "    df[f].value_counts().sort_index().plot(kind='bar')\n",
    "    plt.title(f)\n",
    "    plt.grid()\n",
    "    plt.show()"
   ]
  }
 ],
 "metadata": {
  "kernelspec": {
   "display_name": "Python 3",
   "language": "python",
   "name": "python3"
  },
  "language_info": {
   "codemirror_mode": {
    "name": "ipython",
    "version": 3
   },
   "file_extension": ".py",
   "mimetype": "text/x-python",
   "name": "python",
   "nbconvert_exporter": "python",
   "pygments_lexer": "ipython3",
   "version": "3.8.3"
  }
 },
 "nbformat": 4,
 "nbformat_minor": 4
}
